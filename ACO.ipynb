{
  "nbformat": 4,
  "nbformat_minor": 0,
  "metadata": {
    "colab": {
      "provenance": [],
      "authorship_tag": "ABX9TyPdsx9GuqS+X2VJ+Y5HSOvt",
      "include_colab_link": true
    },
    "kernelspec": {
      "name": "python3",
      "display_name": "Python 3"
    },
    "language_info": {
      "name": "python"
    }
  },
  "cells": [
    {
      "cell_type": "markdown",
      "metadata": {
        "id": "view-in-github",
        "colab_type": "text"
      },
      "source": [
        "<a href=\"https://colab.research.google.com/github/AbdulRahmanSalaah/genetic-and-antcolony-ai/blob/main/ACO.ipynb\" target=\"_parent\"><img src=\"https://colab.research.google.com/assets/colab-badge.svg\" alt=\"Open In Colab\"/></a>"
      ]
    },
    {
      "cell_type": "markdown",
      "source": [
        "#Ant Colony Optimization For TSM problem"
      ],
      "metadata": {
        "id": "FFyTYwF8jR_X"
      }
    },
    {
      "cell_type": "code",
      "execution_count": 115,
      "metadata": {
        "id": "8EewceJOjMsO"
      },
      "outputs": [],
      "source": [
        "import random\n",
        "import numpy as np\n",
        "import matplotlib.pyplot as plt\n",
        "from sklearn.manifold import MDS"
      ]
    },
    {
      "cell_type": "markdown",
      "source": [
        "##Task steps:\n",
        "###1. **Initializing Parameters:**\n",
        "  \n",
        "  1. **Taking Input matrix(d):** distance between cities.\n",
        "  2. **Initializing hyper-Parameters:**\n",
        "      * **m:** number of Ant agents.\n",
        "      * **n:** number of Nodes.\n",
        "      * **τ<sub>o:** initial phermon rate.\n",
        "      * **max_itr:** max number of iterations.\n",
        "      * **ρ:** pheromone evaboration rate.\n",
        "      * **α:** weight of τ.\n",
        "      * **β:** wight of η.\n",
        "      * **Q:** Constant for pheromone deposit.\n",
        "      * **symmetric:** is the distance from nodes symmetric or not(i.e. d<sub>ij</sub> == d<sub>ji</sub>)\n",
        "  3. **Initializing most used data:**\n",
        "      * **η:** heuristic, inverse of distance calculated using this equation:\n",
        "$$\n",
        "    η_{ij} = \\frac{1}{d_{ij}}\n",
        "$$\n",
        "      * **τ:** (n, n) 2d array of pheromone for every path ij  \n",
        "      * **l:** (m,) 1d array of path length for every ant agent\n",
        "      * **sol:** (m, n) 2d array of solution path for every ant agent\n",
        "      * **visited:** m,n 2d array of bool values for every ant deos it visited this or not\n",
        "\n",
        "\n",
        "###2. **Initializing the important functions:**\n",
        "  1. **calc_p(self, i, k):**\n",
        "    * takes ant's number(k) and currunt node(i)\n",
        "    * claculates <span>$p_{ij}^{k}$</span> for every node j from current node using this equation:\n",
        "$$\n",
        "    p_{ij}^k = \\frac{[\\tau_{ij}]^α \\cdot [\\eta_{ij}]^β}{\\sum_{l \\in \\mathcal{N}_i^k} [\\tau_{il}]^\\alpha \\cdot [\\eta_{il}]^\\beta}\n",
        "$$\n",
        "    * ruturns a 1d np array with n (<span>$p_{ij}$</span>) for Ant k\n",
        "  2. **choose_next_node(self, i, k):**\n",
        "    * takes ant's number(k) and currunt node(i).\n",
        "    * chooses the next node randomly from unvisited nodes considering the node's probability.\n",
        "    * if all unvisited node's probabilities = 0 it chooses any one of them randomly with same probability of choice for every node.\n",
        "    * returns the number of next node\n",
        "  3. **delta_tau(self,k):**\n",
        "    * takes ant's number(k).\n",
        "    * claculates Δτ using this equation:\n",
        "$$\n",
        "    {Δτ^k} = \\frac{Q}{L_k}\n",
        "$$\n",
        "    * returns Δτ\n",
        "  4. **phermone_update(self):**\n",
        "    * Update Phermone's level automaticly using this equation\n",
        "$$\n",
        "    τ_{ij} = (1-ρ) \\cdot τ_{ij} + ∑_{k}^{m} Δτ_{ij}^{k}\n",
        "$$\n",
        "\n",
        "\n",
        "  5. **solve(self):**\n",
        "    1. initializes starting node for each Ant\n",
        "    2. loops max_itr number of itrations, for every itr:\n",
        "      1. each Ant moves from starting node to nth node, for every move:\n",
        "          * mark currunt node as visited.\n",
        "          * choose the next node\n",
        "          * save it in sol matrix\n",
        "      2. after ant reaches the goal, mark last node as visited.\n",
        "      3. calculate the length of Ant's path and save it in l vector.\n",
        "      4. updates the phermone level.\n",
        "\n",
        "###3. requirments\n",
        "\n",
        "1. try it on diffrant number of nodes (10, 20)\n",
        "2. for each n: try it on diffrant values of m (1, 5, 10, 20)\n"
      ],
      "metadata": {
        "id": "qYpHrnVRjgjM"
      }
    },
    {
      "cell_type": "code",
      "source": [
        "m = 1\n",
        "n = 10\n",
        "init_tau = 0.1\n",
        "max_itr = 50\n",
        "rho = 0.2\n",
        "alpha = 1\n",
        "beta = 1\n",
        "q = 1"
      ],
      "metadata": {
        "id": "nKfH7UeL8l11"
      },
      "execution_count": 116,
      "outputs": []
    },
    {
      "cell_type": "code",
      "source": [
        "import numpy as np\n",
        "\n",
        "def init_input(n, min_dist=3, max_dist=50, random_state=42, dtype=np.int32):\n",
        "\n",
        "    np.random.seed(random_state)\n",
        "    random_values = np.random.randint(low=min_dist, high=max_dist + 1, size=(n, n))\n",
        "    symmetric_matrix = (random_values + random_values.T) // 2\n",
        "    np.fill_diagonal(symmetric_matrix, 0)\n",
        "\n",
        "    return symmetric_matrix.astype(dtype)\n"
      ],
      "metadata": {
        "id": "7yvr8Gwa_fWY"
      },
      "execution_count": 117,
      "outputs": []
    },
    {
      "cell_type": "code",
      "source": [
        "class ACO:\n",
        "  def __init__(self, m, n, init_tau, max_itr, rho, alpha, beta, q, d, symmetric=True):\n",
        "      self.m = m\n",
        "      self.n = n\n",
        "      self.init_tau = init_tau\n",
        "      self.max_itr = max_itr\n",
        "      self.rho = rho\n",
        "      self.alpha = alpha\n",
        "      self.beta = beta\n",
        "      self.Q = q\n",
        "      self.d = d\n",
        "      self.symmetric = symmetric\n",
        "      self.eta = np.where(self.d == 0, 0, 1 / (self.d))\n",
        "      self.tau = np.full((n, n), init_tau, dtype=np.float64)\n",
        "      self.l = np.zeros((m,), dtype=np.float64)\n",
        "      self.sol = np.zeros((m, n), dtype=np.int64)\n",
        "      self.visited = np.zeros((m, n), dtype=np.int64)\n",
        "      self.best_path = None\n",
        "      self.best_length = np.inf\n",
        "\n",
        "  def calc_p(self, i, k):\n",
        "      p = np.zeros((self.n,))\n",
        "      p = np.power(self.tau[i], self.alpha) * np.power(self.eta[i], self.beta)\n",
        "      p[self.visited[k] == 1] = 0\n",
        "\n",
        "      total = np.sum(p)\n",
        "      if total > 0:\n",
        "          p /= total\n",
        "      else:\n",
        "        p = np.where(self.visited[k] == 0, 1, 0)\n",
        "        p /= np.sum(p)\n",
        "      return p\n",
        "\n",
        "  def choose_next_node(self, i, k):\n",
        "      p = self.calc_p(i, k)\n",
        "      next_node = np.random.choice(self.n, p=p)\n",
        "      return next_node\n",
        "\n",
        "  def delta_tau(self,k):\n",
        "      return self.Q/self.l[k]\n",
        "\n",
        "  def phermone_update(self):\n",
        "      self.tau *= (1 - self.rho)\n",
        "\n",
        "      for k in range(self.m):\n",
        "          delta_tau_k = self.delta_tau(k)\n",
        "          for a in range(self.n):\n",
        "              i = self.sol[k, a]\n",
        "              j = self.sol[k, (a + 1) % self.n]\n",
        "              self.tau[i, j] += delta_tau_k\n",
        "              if self.symmetric:\n",
        "                  self.tau[j, i] += delta_tau_k\n",
        "\n",
        "  def solve(self):\n",
        "      start_nodes = np.random.randint(0, self.n, size=self.m)\n",
        "      for itr in range(self.max_itr):\n",
        "          self.sol = np.zeros((self.m, self.n), dtype=np.int64)\n",
        "          self.visited = np.zeros((self.m, self.n), dtype=np.int64)\n",
        "          self.sol[:,0] = start_nodes\n",
        "\n",
        "          for k in range(self.m):\n",
        "              for a in range(1, self.n):\n",
        "\n",
        "                  i = self.sol[k, a - 1]\n",
        "                  self.visited[k, i] = 1\n",
        "                  next_node = self.choose_next_node(i, k)\n",
        "                  self.sol[k, a] = next_node\n",
        "              i = self.sol[k, self.n - 1]\n",
        "              self.visited[k, i] = 1\n",
        "              self.l[k] = np.sum(self.d[self.sol[k], np.roll(self.sol[k],-1)])\n",
        "              if self.l[k] < self.best_length:\n",
        "                  self.best_length = self.l[k]\n",
        "                  self.best_path = self.sol[k].copy()\n",
        "          self.phermone_update()\n",
        "      return self.best_path, self.best_length\n"
      ],
      "metadata": {
        "id": "fZAG73G3jf-3"
      },
      "execution_count": 118,
      "outputs": []
    },
    {
      "cell_type": "code",
      "source": [
        "ms = [1, 5, 10, 20, 30]\n",
        "ns = [10, 20]\n",
        "init_tau = 0.1\n",
        "rho = 0.2\n",
        "max_itr = 50\n",
        "alpha = 1\n",
        "beta = 1\n",
        "Q = 1\n",
        "best_paths = [[],[]]\n",
        "best_lengths = [[],[]]"
      ],
      "metadata": {
        "id": "3kubF_yAnoA0"
      },
      "execution_count": 119,
      "outputs": []
    },
    {
      "cell_type": "code",
      "source": [
        "i = 0\n",
        "for n in ns:\n",
        "  d = init_input(n, 3, 50)\n",
        "  for m in ms:\n",
        "    aco = ACO(m, n, init_tau, max_itr, rho, alpha, beta, Q, d)\n",
        "    best_path, best_length = aco.solve()\n",
        "    best_paths[i].append(best_path)\n",
        "    best_lengths[i].append(best_length)\n",
        "    print(f\"n: {n}, m: {m}, best_length: {best_length}\")\n",
        "    print(f\"best path: {best_path}\\n\")\n",
        "  i += 1"
      ],
      "metadata": {
        "colab": {
          "base_uri": "https://localhost:8080/"
        },
        "id": "cmoWOJEwtaGD",
        "outputId": "b0e98846-d767-4b47-e605-89dd419bad1b"
      },
      "execution_count": 120,
      "outputs": [
        {
          "output_type": "stream",
          "name": "stderr",
          "text": [
            "<ipython-input-118-6fe8681ffb47>:13: RuntimeWarning: divide by zero encountered in divide\n",
            "  self.eta = np.where(self.d == 0, 0, 1 / (self.d))\n"
          ]
        },
        {
          "output_type": "stream",
          "name": "stdout",
          "text": [
            "n: 10, m: 1, best_length: 184.0\n",
            "best path: [7 1 0 9 5 4 8 2 6 3]\n",
            "\n",
            "n: 10, m: 5, best_length: 156.0\n",
            "best path: [0 4 9 7 1 6 3 8 2 5]\n",
            "\n",
            "n: 10, m: 10, best_length: 156.0\n",
            "best path: [5 0 4 9 7 1 6 3 8 2]\n",
            "\n",
            "n: 10, m: 20, best_length: 156.0\n",
            "best path: [3 6 1 7 9 4 0 5 2 8]\n",
            "\n",
            "n: 10, m: 30, best_length: 156.0\n",
            "best path: [6 3 8 2 5 0 4 9 7 1]\n",
            "\n",
            "n: 20, m: 1, best_length: 322.0\n",
            "best path: [13 15  0 17 12 16 11 19 18  7 14  4  1  5  3  2  6 10  9  8]\n",
            "\n",
            "n: 20, m: 5, best_length: 280.0\n",
            "best path: [ 5  9  8  1  2  3 19 18  7 11 16 10  6 14  4 12 13 15  0 17]\n",
            "\n",
            "n: 20, m: 10, best_length: 268.0\n",
            "best path: [ 2  3  5  9  8 10  6 15 13 12  4 19 18  1 16 11  7 14  0 17]\n",
            "\n",
            "n: 20, m: 20, best_length: 261.0\n",
            "best path: [14  5  3  2 18 19 17  0 15 13 12  4  7 11 16  1  9  8 10  6]\n",
            "\n",
            "n: 20, m: 30, best_length: 253.0\n",
            "best path: [17  0 15 13 12  4 14  7 11 19 18  1 16 10  6  8  9  5  3  2]\n",
            "\n"
          ]
        }
      ]
    },
    {
      "cell_type": "code",
      "source": [
        "best_lengths"
      ],
      "metadata": {
        "colab": {
          "base_uri": "https://localhost:8080/"
        },
        "id": "pLSwlBIf-efU",
        "outputId": "86444376-eaa5-4515-91d9-edb9b819b28b"
      },
      "execution_count": 121,
      "outputs": [
        {
          "output_type": "execute_result",
          "data": {
            "text/plain": [
              "[[np.float64(184.0),\n",
              "  np.float64(156.0),\n",
              "  np.float64(156.0),\n",
              "  np.float64(156.0),\n",
              "  np.float64(156.0)],\n",
              " [np.float64(322.0),\n",
              "  np.float64(280.0),\n",
              "  np.float64(268.0),\n",
              "  np.float64(261.0),\n",
              "  np.float64(253.0)]]"
            ]
          },
          "metadata": {},
          "execution_count": 121
        }
      ]
    },
    {
      "cell_type": "code",
      "source": [
        "\n",
        "plt.plot(ms, best_lengths[0], marker='o', linestyle='-', color='b')\n",
        "plt.xlabel('number of ant agents')\n",
        "plt.ylabel('path length')\n",
        "plt.title('for 10 nodes')\n",
        "plt.grid(True)\n",
        "plt.show()"
      ],
      "metadata": {
        "colab": {
          "base_uri": "https://localhost:8080/",
          "height": 472
        },
        "id": "h_nE48DU96nV",
        "outputId": "63728019-0cc9-46ef-fb7c-bcfd933c6ee2"
      },
      "execution_count": 122,
      "outputs": [
        {
          "output_type": "display_data",
          "data": {
            "text/plain": [
              "<Figure size 640x480 with 1 Axes>"
            ],
            "image/png": "[encoded data removed]"
          },
          "metadata": {}
        }
      ]
    },
    {
      "cell_type": "code",
      "source": [
        "plt.plot(ms, best_lengths[1], marker='o', linestyle='-', color='b')\n",
        "plt.xlabel('number of ant agents')\n",
        "plt.ylabel('path length')\n",
        "plt.title('for 20 node')\n",
        "plt.grid(True)\n",
        "plt.show()"
      ],
      "metadata": {
        "colab": {
          "base_uri": "https://localhost:8080/",
          "height": 472
        },
        "id": "eN1ggi4A_xxw",
        "outputId": "b9b35b70-34b6-457f-f8a1-c8bdeb0fb708"
      },
      "execution_count": 123,
      "outputs": [
        {
          "output_type": "display_data",
          "data": {
            "text/plain": [
              "<Figure size 640x480 with 1 Axes>"
            ],
            "image/png": "[encoded data removed]"
          },
          "metadata": {}
        }
      ]
    },
    {
      "cell_type": "code",
      "source": [],
      "metadata": {
        "id": "poIqOauxAkpo"
      },
      "execution_count": null,
      "outputs": []
    }
  ]
}